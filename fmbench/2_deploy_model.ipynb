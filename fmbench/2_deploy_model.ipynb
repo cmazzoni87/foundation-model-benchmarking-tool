{
 "cells": [
  {
   "cell_type": "markdown",
   "metadata": {
    "tags": []
   },
   "source": [
    "## Deploy Jumpstart and Non Jumpstart Models Asynchronously \n",
    "---------------------\n",
    "*This notebook works best with the conda_python3 kernel on a ml.t3.medium machine*.\n",
    "\n",
    "**This step of our solution design covers setting up the environment, downloading the requirements needed to run the environment, as well as deploying the model endpoints from the config.yml file asychronously.**\n",
    "\n",
    "1. Prerequisite: Navigate to the file: 0_setup.ipynb and Run the cell to import and download the requirements.txt.\n",
    "\n",
    "2. Now you can run this notebook to deploy the models asychronously in different threads. The key components of this notebook for the purposes of understanding are:\n",
    "\n",
    "- Loading the globals.py and config.yml file.\n",
    "\n",
    "- Setting a blocker function deploy_model to deploy the given model endpoint followed by:\n",
    "\n",
    "- A series of async functions to set tasks to deploy the models from the config yml file asynchronously in different threads. View the notebook from the link above.\n",
    "\n",
    "- Once the endpoints are deployed, their model configurations are stored within the endpoints.json file.\n"
   ]
  },
  {
   "cell_type": "markdown",
   "metadata": {},
   "source": [
    "#### Import all of the necessary libraries below to run this notebook"
   ]
  },
  {
   "cell_type": "code",
   "execution_count": null,
   "metadata": {},
   "outputs": [],
   "source": [
    "# if interactive mode is set to no -> pickup fmbench from Python installation path\n",
    "# if interactive mode is set to yes -> pickup fmbench from the current path (one level above this notebook)\n",
    "# if interactive mode is not defined -> pickup fmbench from the current path (one level above this notebook)\n",
    "# the premise is that if run non-interactively then it can only be run through main.py which will set interactive mode to no\n",
    "import os\n",
    "import sys\n",
    "if os.environ.get(\"INTERACTIVE_MODE_SET\", \"yes\") == \"yes\":\n",
    "    sys.path.append(os.path.dirname(os.getcwd()))"
   ]
  },
  {
   "cell_type": "code",
   "metadata": {},
   "outputs": [],
   "source": "import sys\nimport time\nimport json\nimport boto3\nimport asyncio\nimport logging\nimport importlib.util\nimport fmbench.scripts\nfrom pathlib import Path\nfrom fmbench.utils import *\nfrom fmbench.globals import *\nfrom fmbench.scripts import constants\nfrom typing import Dict, List, Optional\nimport importlib.resources as pkg_resources\nfrom botocore.exceptions import ClientError\nfrom botocore.exceptions import NoCredentialsError"
  },
  {
   "cell_type": "markdown",
   "metadata": {},
   "source": [
    "#### Pygmentize globals.py to view and use any of the globally initialized variables "
   ]
  },
  {
   "cell_type": "markdown",
   "metadata": {},
   "source": [
    "#### Set up a logger to log all messages while the code runs"
   ]
  },
  {
   "cell_type": "code",
   "execution_count": null,
   "metadata": {},
   "outputs": [],
   "source": [
    "logger = logging.getLogger()\n",
    "logger.setLevel(logging.INFO)\n",
    "\n",
    "# Remove existing handlers\n",
    "logger.handlers.clear()\n",
    "\n",
    "# Add a simple handler\n",
    "handler = logging.StreamHandler()\n",
    "formatter = logging.Formatter('[%(asctime)s] p%(process)s {%(filename)s:%(lineno)d} %(levelname)s - %(message)s')\n",
    "handler.setFormatter(formatter)\n",
    "logger.addHandler(handler)"
   ]
  },
  {
   "cell_type": "markdown",
   "metadata": {},
   "source": [
    "### Load the config.yml file\n",
    "------\n",
    "\n",
    "The config.yml file contains information that is used across this benchmarking environment, such as information about the aws account, prompts, payloads to be used for invocations, and model configurations like the version of the model, the endpoint name, model_id that needs to be deployed. Configurations also support the gives instance type to be used, for example: \"ml.g5.24xlarge\", the image uri, whether or not to deploy this given model, followed by an inference script \"jumpstart.py\" which supports the inference script for jumpstart models to deploy the model in this deploy notebook. \n",
    "\n",
    "View the contents of the config yml file below and how it is loaded and used throughout this notebook with deploying the model endpoints asynchronously."
   ]
  },
  {
   "cell_type": "code",
   "metadata": {},
   "outputs": [],
   "source": "## Load the config.yml file referring to the globals.py file\nconfig = load_main_config(CONFIG_FILE)\n\n## configure the aws region\naws_region = config['aws']['region']\n\nlogger.info(f\"aws_region={aws_region}\")\nlogger.info(f\"config={json.dumps(config, indent=2)}\")"
  },
  {
   "cell_type": "markdown",
   "metadata": {},
   "source": [
    "#### Deploy a single model: blocking function used for asynchronous deployment\n",
    "\n",
    "This function is designed to deploy a single large language model endpoint. It takes three parameters: experiment_config (a dictionary containing configuration details for the model deployment from the config.yml file), aws_region (the AWS region where the model will be deployed), and role_arn (the AWS role's Amazon Resource Name used for the deployment)."
   ]
  },
  {
   "cell_type": "code",
   "execution_count": null,
   "metadata": {},
   "outputs": [],
   "source": [
    "# Initialize an environment variable to check if any of the endpoints are deployed on SageMaker\n",
    "# this variable is set to False by default and changed to True if the model is deployed on SageMaker\n",
    "any_ep_on_sagemaker: bool = False"
   ]
  },
  {
   "cell_type": "code",
   "metadata": {},
   "outputs": [],
   "source": "def deploy_model(experiment_config: Dict, aws_region: str, role_arn: str) -> Optional[Dict]:\n    # Log the deployment details\n    logger.info(f\"going to deploy {experiment_config}, in {aws_region}\")\n    model_deployment_result: Optional[Dict] = None\n\n    # For Bedrock models, we don't actually deploy anything - Bedrock models are already deployed\n    # We simply register them in our endpoint list\n    \n    # Check if deployment is enabled in the config; skip if not\n    deploy = experiment_config.get('deploy', False)\n    if deploy is False:\n        logger.info(f\"skipping deployment of {experiment_config['model_id']} because deploy={deploy}\")\n        model_deployment_result = dict(endpoint_name=experiment_config['ep_name'], \n                                      experiment_name=experiment_config['name'], \n                                      instance_type=experiment_config['instance_type'], \n                                      instance_count=experiment_config['instance_count'],\n                                      deployed=False)\n        return model_deployment_result\n\n    # For Bedrock models, create a simple record with the endpoint info\n    # This simulates \"deploying\" the model by registering it in our system\n    try:\n        # Create a deployment result with the model info\n        model_deployment_result = dict(\n            endpoint_name=experiment_config['ep_name'],\n            experiment_name=experiment_config['name'],\n            instance_type=experiment_config['instance_type'],\n            instance_count=experiment_config['instance_count'],\n            deployed=True\n        )\n        \n        logger.info(f\"Registered Bedrock model {experiment_config['model_id']} as {experiment_config['ep_name']}\")\n        return model_deployment_result\n    except Exception as error:\n        logger.error(f\"An error occurred during Bedrock model registration: {error}\")\n        return None"
  },
  {
   "cell_type": "markdown",
   "metadata": {},
   "source": [
    "### Asynchronous Model Deployment\n",
    "----\n",
    "\n",
    "#### async_deploy_model: \n",
    "\n",
    "- This is an asynchronous wrapper around the deploy_model function. It uses asyncio.to_thread to run the synchronous deploy_model function in a separate thread. This allows the function to be awaited in an asynchronous context, enabling concurrent model deployments without any blocking from the main thread\n",
    "\n",
    "#### async_deploy_all_models Function: \n",
    "\n",
    "- This 'async_deploy_all_models' function is designed to deploy multiple models concurrently. It splits the models into batches and deploys each batch concurrently using asyncio.gather."
   ]
  },
  {
   "cell_type": "code",
   "metadata": {},
   "outputs": [],
   "source": "## Asynchronous wrapper function to allow our deploy_model function to allow concurrent requests for deployment\nasync def async_deploy_model(experiment_config: Dict, aws_region: str) -> str:\n    # Run the deploy_model function in a separate thread to deploy the models asychronously\n    return await asyncio.to_thread(deploy_model, experiment_config, aws_region, None)\n\n## Final asychronous function to deploy all of the models concurrently\nasync def async_deploy_all_models(config: Dict) -> List[Dict]:\n    \n    ## Extract experiments from the config.yml file (contains information on model configurations)\n    experiments: List[Dict] = config['experiments']\n    n: int = 4 # max concurrency so as to not get a throttling exception\n    \n    ## Split experiments into smaller batches for concurrent deployment\n    experiments_splitted = [experiments[i * n:(i + 1) * n] for i in range((len(experiments) + n - 1) // n )]\n    results = []\n    for exp_list in experiments_splitted:\n        \n        ## send the deployment in batches\n        result = await asyncio.gather(*[async_deploy_model(m, config['aws']['region']) for m in exp_list])\n        ## Collect and furthermore extend the results from each batch\n        results.extend(result)\n    return results"
  },
  {
   "cell_type": "code",
   "metadata": {},
   "outputs": [],
   "source": "# async version\ns = time.perf_counter()\n\n## Call all of the models for deployment using the config.yml file model configurations\nendpoint_names = await async_deploy_all_models(config)\n\n## Set a timer for model deployment counter\nelapsed_async = time.perf_counter() - s\nprint(f\"endpoint_names -> {endpoint_names}, deployed in {elapsed_async:0.2f} seconds\")"
  },
  {
   "cell_type": "code",
   "metadata": {
    "tags": []
   },
   "outputs": [],
   "source": "## Function to get all of the information on the deployed endpoints and store it in a json\ndef get_all_info_for_endpoint(ep: Dict) -> Dict:\n    try:\n        ## extract the endpoint name\n        ep_name = ep['endpoint_name']        \n        ## extract the experiment name from the config.yml file\n        experiment_name = ep['experiment_name']\n        \n        if ep_name is None:\n            return None\n            \n        # For Bedrock models, construct endpoint info directly\n        logger.info(f\"ep_name={ep_name} is a Bedrock model endpoint\")\n        info = dict(\n            experiment_name=experiment_name,\n            endpoint={'EndpointName': ep_name},\n            instance_type=ep['instance_type'],\n            instance_count=ep['instance_count'],\n            deployed=ep['deployed'],\n            model_config=None\n        )\n        return info\n    except Exception as e:\n        logger.error(f\"Error processing endpoint {ep_name}: {str(e)}\")\n        return None\n\nall_info = list(filter(None,\n                  list(map(get_all_info_for_endpoint,\n                             list(filter(None,\n                                          endpoint_names))))))\n\n## stores information in a dictionary for collectively all of the deployed model endpoints\nall_info"
  },
  {
   "cell_type": "code",
   "execution_count": null,
   "metadata": {},
   "outputs": [],
   "source": [
    "# Convert data to JSON\n",
    "json_data = json.dumps(all_info, indent=2, default=str)\n",
    "\n",
    "# Specify the file name\n",
    "file_name = \"endpoints.json\"\n",
    "\n",
    "# Write to S3\n",
    "endpoint_s3_path = write_to_s3(json_data, config['aws']['bucket'], MODELS_DIR, \"\", file_name)\n",
    "\n",
    "logger.info(f\"deployed endpoint info is written to this file --> {endpoint_s3_path}\")"
   ]
  },
  {
   "cell_type": "code",
   "execution_count": null,
   "metadata": {},
   "outputs": [],
   "source": [
    "# check if we needed to deploy at least one endpoint and none got deployed\n",
    "# and if that is so then raise an Exception because we cannot run any infernece\n",
    "# so no point in continuing further\n",
    "expected_deploy_count: int = len([e for e in config['experiments'] if e.get('deploy', True) is True])\n",
    "actual_deploy_count: int = len([ep for ep in all_info if ep.get('deployed') is True])\n",
    "assert_text: str = f\"expected_deploy_count={expected_deploy_count} but actual_deploy_count={actual_deploy_count}, cannot continue\"\n",
    "assert expected_deploy_count == actual_deploy_count, assert_text"
   ]
  }
 ],
 "metadata": {
  "kernelspec": {
   "display_name": "conda_fmbench_python311",
   "language": "python",
   "name": "conda_fmbench_python311"
  },
  "language_info": {
   "codemirror_mode": {
    "name": "ipython",
    "version": 3
   },
   "file_extension": ".py",
   "mimetype": "text/x-python",
   "name": "python",
   "nbconvert_exporter": "python",
   "pygments_lexer": "ipython3",
   "version": "3.11.9"
  }
 },
 "nbformat": 4,
 "nbformat_minor": 4
}